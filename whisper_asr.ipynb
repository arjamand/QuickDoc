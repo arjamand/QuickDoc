{
  "nbformat": 4,
  "nbformat_minor": 0,
  "metadata": {
    "colab": {
      "provenance": []
    },
    "kernelspec": {
      "name": "python3",
      "display_name": "Python 3"
    },
    "language_info": {
      "name": "python"
    }
  },
  "cells": [
    {
      "cell_type": "code",
      "source": [
        "!pip install git+https://github.com/openai/whisper.git\n",
        "!pip install torchaudio\n"
      ],
      "metadata": {
        "id": "Nd_Uzzl7Ww-d"
      },
      "execution_count": null,
      "outputs": []
    },
    {
      "cell_type": "code",
      "source": [
        "!pip install whisper torchaudio numpy sounddevice pybind11 noisereduce\n"
      ],
      "metadata": {
        "id": "xiyZ82AQW0y1"
      },
      "execution_count": null,
      "outputs": []
    },
    {
      "cell_type": "code",
      "source": [
        "!apt-get install portaudio19-dev python-all-dev\n",
        "!apt-get install python3.10-dev -y\n"
      ],
      "metadata": {
        "colab": {
          "base_uri": "https://localhost:8080/"
        },
        "id": "lPdZ1or4Qb5E",
        "outputId": "87064b57-aeae-47a2-f119-c627f230582a"
      },
      "execution_count": 12,
      "outputs": [
        {
          "output_type": "stream",
          "name": "stdout",
          "text": [
            "Reading package lists... Done\n",
            "Building dependency tree... Done\n",
            "Reading state information... Done\n",
            "The following additional packages will be installed:\n",
            "  libportaudio2 libportaudiocpp0 libpython-all-dev libpython2-dev libpython2-stdlib libpython2.7\n",
            "  libpython2.7-dev libpython2.7-minimal libpython2.7-stdlib python-all python2 python2-dev\n",
            "  python2-minimal python2.7 python2.7-dev python2.7-minimal\n",
            "Suggested packages:\n",
            "  portaudio19-doc python2-doc python-tk python2.7-doc binfmt-support\n",
            "The following NEW packages will be installed:\n",
            "  libportaudio2 libportaudiocpp0 libpython-all-dev libpython2-dev libpython2-stdlib libpython2.7\n",
            "  libpython2.7-dev libpython2.7-minimal libpython2.7-stdlib portaudio19-dev python-all\n",
            "  python-all-dev python2 python2-dev python2-minimal python2.7 python2.7-dev python2.7-minimal\n",
            "0 upgraded, 18 newly installed, 0 to remove and 49 not upgraded.\n",
            "Need to get 8,164 kB of archives.\n",
            "After this operation, 33.6 MB of additional disk space will be used.\n",
            "Get:1 http://archive.ubuntu.com/ubuntu jammy-updates/universe amd64 libpython2.7-minimal amd64 2.7.18-13ubuntu1.4 [347 kB]\n",
            "Get:2 http://archive.ubuntu.com/ubuntu jammy-updates/universe amd64 python2.7-minimal amd64 2.7.18-13ubuntu1.4 [1,394 kB]\n",
            "Get:3 http://archive.ubuntu.com/ubuntu jammy/universe amd64 python2-minimal amd64 2.7.18-3 [20.8 kB]\n",
            "Get:4 http://archive.ubuntu.com/ubuntu jammy-updates/universe amd64 libpython2.7-stdlib amd64 2.7.18-13ubuntu1.4 [1,977 kB]\n",
            "Get:5 http://archive.ubuntu.com/ubuntu jammy-updates/universe amd64 python2.7 amd64 2.7.18-13ubuntu1.4 [250 kB]\n",
            "Get:6 http://archive.ubuntu.com/ubuntu jammy/universe amd64 libpython2-stdlib amd64 2.7.18-3 [7,432 B]\n",
            "Get:7 http://archive.ubuntu.com/ubuntu jammy/universe amd64 python2 amd64 2.7.18-3 [9,098 B]\n",
            "Get:8 http://archive.ubuntu.com/ubuntu jammy/universe amd64 libportaudio2 amd64 19.6.0-1.1 [65.3 kB]\n",
            "Get:9 http://archive.ubuntu.com/ubuntu jammy/universe amd64 libportaudiocpp0 amd64 19.6.0-1.1 [16.1 kB]\n",
            "Get:10 http://archive.ubuntu.com/ubuntu jammy-updates/universe amd64 libpython2.7 amd64 2.7.18-13ubuntu1.4 [1,161 kB]\n",
            "Get:11 http://archive.ubuntu.com/ubuntu jammy-updates/universe amd64 libpython2.7-dev amd64 2.7.18-13ubuntu1.4 [2,512 kB]\n",
            "Get:12 http://archive.ubuntu.com/ubuntu jammy/universe amd64 libpython2-dev amd64 2.7.18-3 [7,512 B]\n",
            "Get:13 http://archive.ubuntu.com/ubuntu jammy/universe amd64 libpython-all-dev amd64 2.7.18-3 [922 B]\n",
            "Get:14 http://archive.ubuntu.com/ubuntu jammy/universe amd64 portaudio19-dev amd64 19.6.0-1.1 [106 kB]\n",
            "Get:15 http://archive.ubuntu.com/ubuntu jammy/universe amd64 python-all amd64 2.7.18-3 [902 B]\n",
            "Get:16 http://archive.ubuntu.com/ubuntu jammy-updates/universe amd64 python2.7-dev amd64 2.7.18-13ubuntu1.4 [287 kB]\n",
            "Get:17 http://archive.ubuntu.com/ubuntu jammy/universe amd64 python2-dev amd64 2.7.18-3 [1,064 B]\n",
            "Get:18 http://archive.ubuntu.com/ubuntu jammy/universe amd64 python-all-dev amd64 2.7.18-3 [922 B]\n",
            "Fetched 8,164 kB in 2s (4,264 kB/s)\n",
            "Selecting previously unselected package libpython2.7-minimal:amd64.\n",
            "(Reading database ... 123632 files and directories currently installed.)\n",
            "Preparing to unpack .../0-libpython2.7-minimal_2.7.18-13ubuntu1.4_amd64.deb ...\n",
            "Unpacking libpython2.7-minimal:amd64 (2.7.18-13ubuntu1.4) ...\n",
            "Selecting previously unselected package python2.7-minimal.\n",
            "Preparing to unpack .../1-python2.7-minimal_2.7.18-13ubuntu1.4_amd64.deb ...\n",
            "Unpacking python2.7-minimal (2.7.18-13ubuntu1.4) ...\n",
            "Selecting previously unselected package python2-minimal.\n",
            "Preparing to unpack .../2-python2-minimal_2.7.18-3_amd64.deb ...\n",
            "Unpacking python2-minimal (2.7.18-3) ...\n",
            "Selecting previously unselected package libpython2.7-stdlib:amd64.\n",
            "Preparing to unpack .../3-libpython2.7-stdlib_2.7.18-13ubuntu1.4_amd64.deb ...\n",
            "Unpacking libpython2.7-stdlib:amd64 (2.7.18-13ubuntu1.4) ...\n",
            "Selecting previously unselected package python2.7.\n",
            "Preparing to unpack .../4-python2.7_2.7.18-13ubuntu1.4_amd64.deb ...\n",
            "Unpacking python2.7 (2.7.18-13ubuntu1.4) ...\n",
            "Selecting previously unselected package libpython2-stdlib:amd64.\n",
            "Preparing to unpack .../5-libpython2-stdlib_2.7.18-3_amd64.deb ...\n",
            "Unpacking libpython2-stdlib:amd64 (2.7.18-3) ...\n",
            "Setting up libpython2.7-minimal:amd64 (2.7.18-13ubuntu1.4) ...\n",
            "Setting up python2.7-minimal (2.7.18-13ubuntu1.4) ...\n",
            "Setting up python2-minimal (2.7.18-3) ...\n",
            "Selecting previously unselected package python2.\n",
            "(Reading database ... 124375 files and directories currently installed.)\n",
            "Preparing to unpack .../00-python2_2.7.18-3_amd64.deb ...\n",
            "Unpacking python2 (2.7.18-3) ...\n",
            "Selecting previously unselected package libportaudio2:amd64.\n",
            "Preparing to unpack .../01-libportaudio2_19.6.0-1.1_amd64.deb ...\n",
            "Unpacking libportaudio2:amd64 (19.6.0-1.1) ...\n",
            "Selecting previously unselected package libportaudiocpp0:amd64.\n",
            "Preparing to unpack .../02-libportaudiocpp0_19.6.0-1.1_amd64.deb ...\n",
            "Unpacking libportaudiocpp0:amd64 (19.6.0-1.1) ...\n",
            "Selecting previously unselected package libpython2.7:amd64.\n",
            "Preparing to unpack .../03-libpython2.7_2.7.18-13ubuntu1.4_amd64.deb ...\n",
            "Unpacking libpython2.7:amd64 (2.7.18-13ubuntu1.4) ...\n",
            "Selecting previously unselected package libpython2.7-dev:amd64.\n",
            "Preparing to unpack .../04-libpython2.7-dev_2.7.18-13ubuntu1.4_amd64.deb ...\n",
            "Unpacking libpython2.7-dev:amd64 (2.7.18-13ubuntu1.4) ...\n",
            "Selecting previously unselected package libpython2-dev:amd64.\n",
            "Preparing to unpack .../05-libpython2-dev_2.7.18-3_amd64.deb ...\n",
            "Unpacking libpython2-dev:amd64 (2.7.18-3) ...\n",
            "Selecting previously unselected package libpython-all-dev:amd64.\n",
            "Preparing to unpack .../06-libpython-all-dev_2.7.18-3_amd64.deb ...\n",
            "Unpacking libpython-all-dev:amd64 (2.7.18-3) ...\n",
            "Selecting previously unselected package portaudio19-dev:amd64.\n",
            "Preparing to unpack .../07-portaudio19-dev_19.6.0-1.1_amd64.deb ...\n",
            "Unpacking portaudio19-dev:amd64 (19.6.0-1.1) ...\n",
            "Selecting previously unselected package python-all.\n",
            "Preparing to unpack .../08-python-all_2.7.18-3_amd64.deb ...\n",
            "Unpacking python-all (2.7.18-3) ...\n",
            "Selecting previously unselected package python2.7-dev.\n",
            "Preparing to unpack .../09-python2.7-dev_2.7.18-13ubuntu1.4_amd64.deb ...\n",
            "Unpacking python2.7-dev (2.7.18-13ubuntu1.4) ...\n",
            "Selecting previously unselected package python2-dev.\n",
            "Preparing to unpack .../10-python2-dev_2.7.18-3_amd64.deb ...\n",
            "Unpacking python2-dev (2.7.18-3) ...\n",
            "Selecting previously unselected package python-all-dev.\n",
            "Preparing to unpack .../11-python-all-dev_2.7.18-3_amd64.deb ...\n",
            "Unpacking python-all-dev (2.7.18-3) ...\n",
            "Setting up libportaudio2:amd64 (19.6.0-1.1) ...\n",
            "Setting up libportaudiocpp0:amd64 (19.6.0-1.1) ...\n",
            "Setting up portaudio19-dev:amd64 (19.6.0-1.1) ...\n",
            "Setting up libpython2.7-stdlib:amd64 (2.7.18-13ubuntu1.4) ...\n",
            "Setting up libpython2.7:amd64 (2.7.18-13ubuntu1.4) ...\n",
            "Setting up libpython2.7-dev:amd64 (2.7.18-13ubuntu1.4) ...\n",
            "Setting up python2.7 (2.7.18-13ubuntu1.4) ...\n",
            "Setting up libpython2-stdlib:amd64 (2.7.18-3) ...\n",
            "Setting up python2 (2.7.18-3) ...\n",
            "Setting up libpython2-dev:amd64 (2.7.18-3) ...\n",
            "Setting up python2.7-dev (2.7.18-13ubuntu1.4) ...\n",
            "Setting up python2-dev (2.7.18-3) ...\n",
            "Setting up libpython-all-dev:amd64 (2.7.18-3) ...\n",
            "Setting up python-all (2.7.18-3) ...\n",
            "Setting up python-all-dev (2.7.18-3) ...\n",
            "Processing triggers for man-db (2.10.2-1) ...\n",
            "Processing triggers for libc-bin (2.35-0ubuntu3.4) ...\n",
            "/sbin/ldconfig.real: /usr/local/lib/libhwloc.so.15 is not a symbolic link\n",
            "\n",
            "/sbin/ldconfig.real: /usr/local/lib/libtbbbind_2_5.so.3 is not a symbolic link\n",
            "\n",
            "/sbin/ldconfig.real: /usr/local/lib/libur_adapter_level_zero.so.0 is not a symbolic link\n",
            "\n",
            "/sbin/ldconfig.real: /usr/local/lib/libtbbbind.so.3 is not a symbolic link\n",
            "\n",
            "/sbin/ldconfig.real: /usr/local/lib/libtbbmalloc_proxy.so.2 is not a symbolic link\n",
            "\n",
            "/sbin/ldconfig.real: /usr/local/lib/libumf.so.0 is not a symbolic link\n",
            "\n",
            "/sbin/ldconfig.real: /usr/local/lib/libtcm_debug.so.1 is not a symbolic link\n",
            "\n",
            "/sbin/ldconfig.real: /usr/local/lib/libur_loader.so.0 is not a symbolic link\n",
            "\n",
            "/sbin/ldconfig.real: /usr/local/lib/libtcm.so.1 is not a symbolic link\n",
            "\n",
            "/sbin/ldconfig.real: /usr/local/lib/libtbbbind_2_0.so.3 is not a symbolic link\n",
            "\n",
            "/sbin/ldconfig.real: /usr/local/lib/libtbbmalloc.so.2 is not a symbolic link\n",
            "\n",
            "/sbin/ldconfig.real: /usr/local/lib/libur_adapter_opencl.so.0 is not a symbolic link\n",
            "\n",
            "/sbin/ldconfig.real: /usr/local/lib/libtbb.so.12 is not a symbolic link\n",
            "\n"
          ]
        }
      ]
    },
    {
      "cell_type": "code",
      "source": [
        "!g++ -std=c++17 main.cpp -o continuous_filtered_asr \\\n",
        "    -I/usr/local/lib/python3.10/dist-packages/pybind11/include \\\n",
        "    -I/usr/include/python3.10 \\\n",
        "    -lpython3.10\n"
      ],
      "metadata": {
        "id": "WYOMLOBtXi09"
      },
      "execution_count": null,
      "outputs": []
    },
    {
      "cell_type": "code",
      "source": [
        "!./continuous_filtered_asr"
      ],
      "metadata": {
        "colab": {
          "base_uri": "https://localhost:8080/"
        },
        "id": "pbTBdeGHV1kj",
        "outputId": "747c012d-86e7-4e0f-d71c-bbdd5ca64c61"
      },
      "execution_count": 28,
      "outputs": [
        {
          "output_type": "stream",
          "name": "stdout",
          "text": [
            "Continuous Real-Time ASR with Noise Filtering\n",
            "/usr/local/lib/python3.10/dist-packages/whisper/__init__.py:150: FutureWarning: You are using `torch.load` with `weights_only=False` (the current default value), which uses the default pickle module implicitly. It is possible to construct malicious pickle data which will execute arbitrary code during unpickling (See https://github.com/pytorch/pytorch/blob/main/SECURITY.md#untrusted-models for more details). In a future release, the default value for `weights_only` will be flipped to `True`. This limits the functions that could be executed during unpickling. Arbitrary objects will no longer be allowed to be loaded via this mode unless they are explicitly allowlisted by the user via `torch.serialization.add_safe_globals`. We recommend you start setting `weights_only=True` for any use case where you don't have full control of the loaded file. Please open an issue on GitHub for any issues related to this experimental feature.\n",
            "  checkpoint = torch.load(fp, map_location=device)\n",
            "Type 'exit' to end the session. Press Enter to start recording.\n",
            "\n",
            "Ready to record? (Press Enter to start or type 'exit' to quit): \n",
            "Recording... Press Enter to stop.\n",
            "Python Error: "
          ]
        }
      ]
    },
    {
      "cell_type": "code",
      "source": [
        "\n",
        "import pybind11\n",
        "\n",
        "# Print the include path\n",
        "print(pybind11.get_include())\n"
      ],
      "metadata": {
        "colab": {
          "base_uri": "https://localhost:8080/"
        },
        "id": "8SeglD6-UkUO",
        "outputId": "a7079c19-305d-472d-e7a2-51bdd7d8cf7e"
      },
      "execution_count": 21,
      "outputs": [
        {
          "output_type": "stream",
          "name": "stdout",
          "text": [
            "/usr/local/lib/python3.10/dist-packages/pybind11/include\n"
          ]
        }
      ]
    },
    {
      "cell_type": "code",
      "source": [
        "!python /content/whisper_continuous_with_filter.py"
      ],
      "metadata": {
        "colab": {
          "base_uri": "https://localhost:8080/"
        },
        "id": "xaqRsMLUZEnl",
        "outputId": "7c558a2a-00c0-4158-af73-c1582afe64d4"
      },
      "execution_count": 30,
      "outputs": [
        {
          "output_type": "stream",
          "name": "stdout",
          "text": [
            "/usr/local/lib/python3.10/dist-packages/whisper/__init__.py:150: FutureWarning: You are using `torch.load` with `weights_only=False` (the current default value), which uses the default pickle module implicitly. It is possible to construct malicious pickle data which will execute arbitrary code during unpickling (See https://github.com/pytorch/pytorch/blob/main/SECURITY.md#untrusted-models for more details). In a future release, the default value for `weights_only` will be flipped to `True`. This limits the functions that could be executed during unpickling. Arbitrary objects will no longer be allowed to be loaded via this mode unless they are explicitly allowlisted by the user via `torch.serialization.add_safe_globals`. We recommend you start setting `weights_only=True` for any use case where you don't have full control of the loaded file. Please open an issue on GitHub for any issues related to this experimental feature.\n",
            "  checkpoint = torch.load(fp, map_location=device)\n",
            "Type 'exit' to end the session. Press Enter to start recording.\n",
            "\n",
            "Ready to record? (Press Enter to start or type 'exit' to quit): \n",
            "Recording... Press Enter to stop.\n",
            "Traceback (most recent call last):\n",
            "  File \"/content/whisper_continuous_with_filter.py\", line 49, in <module>\n",
            "    transcribe_continuous_with_filter()\n",
            "  File \"/content/whisper_continuous_with_filter.py\", line 27, in transcribe_continuous_with_filter\n",
            "    stream = sd.InputStream(samplerate=sample_rate, channels=1, callback=lambda indata, frames, time, status: recording.append(indata.copy()))\n",
            "  File \"/usr/local/lib/python3.10/dist-packages/sounddevice.py\", line 1440, in __init__\n",
            "    _StreamBase.__init__(self, kind='input', wrap_callback='array',\n",
            "  File \"/usr/local/lib/python3.10/dist-packages/sounddevice.py\", line 828, in __init__\n",
            "    _get_stream_parameters(kind, device, channels, dtype, latency,\n",
            "  File \"/usr/local/lib/python3.10/dist-packages/sounddevice.py\", line 2708, in _get_stream_parameters\n",
            "    info = query_devices(device)\n",
            "  File \"/usr/local/lib/python3.10/dist-packages/sounddevice.py\", line 572, in query_devices\n",
            "    raise PortAudioError(f'Error querying device {device}')\n",
            "sounddevice.PortAudioError: Error querying device -1\n"
          ]
        }
      ]
    },
    {
      "cell_type": "code",
      "source": [
        "import sounddevice as sd\n",
        "print(sd.query_devices())\n"
      ],
      "metadata": {
        "colab": {
          "base_uri": "https://localhost:8080/"
        },
        "id": "a62Nax0rafOe",
        "outputId": "1387ab81-ae49-44c7-d965-8bbeacec93b5"
      },
      "execution_count": 31,
      "outputs": [
        {
          "output_type": "stream",
          "name": "stdout",
          "text": [
            "\n"
          ]
        }
      ]
    },
    {
      "cell_type": "code",
      "source": [],
      "metadata": {
        "id": "XIJrjXaNUk5O"
      },
      "execution_count": null,
      "outputs": []
    }
  ]
}